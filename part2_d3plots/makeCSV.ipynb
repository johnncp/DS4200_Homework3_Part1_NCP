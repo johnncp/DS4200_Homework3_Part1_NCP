{
 "cells": [
  {
   "cell_type": "code",
   "execution_count": 2,
   "metadata": {},
   "outputs": [
    {
     "name": "stdout",
     "output_type": "stream",
     "text": [
      "SocialMediaAvg.csv has been created.\n",
      "SocialMediaTime.csv has been created.\n"
     ]
    }
   ],
   "source": [
    "import pandas as pd\n",
    "\n",
    "# Load the original data from socialMedia.csv\n",
    "df = pd.read_csv('socialMedia.csv')\n",
    "\n",
    "# ====================================================\n",
    "# Create SocialMediaAvg.csv:\n",
    "# Group the data by 'Platform' and 'PostType' and calculate the average Likes.\n",
    "# Then round the AvgLikes to 2 decimal places.\n",
    "# ====================================================\n",
    "avg_df = df.groupby(['Platform', 'PostType'], as_index=False)['Likes'].mean()\n",
    "avg_df.rename(columns={'Likes': 'AvgLikes'}, inplace=True)\n",
    "avg_df['AvgLikes'] = avg_df['AvgLikes'].round(2)\n",
    "\n",
    "# Save the summarized data to SocialMediaAvg.csv\n",
    "avg_df.to_csv('SocialMediaAvg.csv', index=False)\n",
    "print(\"SocialMediaAvg.csv has been created.\")\n",
    "\n",
    "# ====================================================\n",
    "# Create SocialMediaTime.csv:\n",
    "# Group the data by 'Date' and calculate the average Likes.\n",
    "# Then round AvgLikes to 6 decimal places (as in the example) and\n",
    "# format the date to include the weekday.\n",
    "# ====================================================\n",
    "time_df = df.groupby('Date', as_index=False)['Likes'].mean()\n",
    "time_df.rename(columns={'Likes': 'AvgLikes'}, inplace=True)\n",
    "time_df['AvgLikes'] = time_df['AvgLikes'].round(6)\n",
    "\n",
    "# Function to format date as \"m/d/yyyy (Weekday)\"\n",
    "def format_date(date_str):\n",
    "    try:\n",
    "        # Try to convert the date string to a datetime object.\n",
    "        # Adjust the format if your original CSV uses a different format.\n",
    "        dt = pd.to_datetime(date_str)\n",
    "        return dt.strftime(\"%-m/%-d/%Y (%A)\")\n",
    "    except Exception as e:\n",
    "        return date_str  # If parsing fails, return the original string.\n",
    "\n",
    "time_df['Date'] = time_df['Date'].apply(format_date)\n",
    "\n",
    "# Save the summarized data to SocialMediaTime.csv\n",
    "time_df.to_csv('SocialMediaTime.csv', index=False)\n",
    "print(\"SocialMediaTime.csv has been created.\")"
   ]
  }
 ],
 "metadata": {
  "kernelspec": {
   "display_name": "base",
   "language": "python",
   "name": "python3"
  },
  "language_info": {
   "codemirror_mode": {
    "name": "ipython",
    "version": 3
   },
   "file_extension": ".py",
   "mimetype": "text/x-python",
   "name": "python",
   "nbconvert_exporter": "python",
   "pygments_lexer": "ipython3",
   "version": "3.12.4"
  }
 },
 "nbformat": 4,
 "nbformat_minor": 2
}
